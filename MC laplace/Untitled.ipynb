{
 "cells": [
  {
   "cell_type": "code",
   "execution_count": 115,
   "metadata": {},
   "outputs": [],
   "source": [
    "\n",
    "import matplotlib.pyplot as plt\n",
    "import numpy as np  \n",
    "import os\n",
    "\n",
    "\n",
    "\n",
    "def nombres(txt):\n",
    "    if txt[0]=='N':\n",
    "        N=txt[1:10]\n",
    "    return N\n",
    "\n",
    "\n",
    "\n",
    "\n",
    "# las variables pi_l_e y pi_lb_e recuperan los valroes\n",
    "# de los binarios en desorden, para graficarlos adecuadamente\n",
    "# \n",
    "\n",
    "\n",
    "\n",
    "k=200  # Para obtener el numero de bins para formar histogramas\n",
    "N=np.logspace(10,2,50,endpoint=True,dtype=np.int64) #Para generar un valor N distanciado log\n",
    "N_jp=N[10:50:2]\n",
    "N_cc=N[11:50:2];\n",
    "N1=N[10:50:1]\n",
    "\n",
    "\n",
    "\n",
    "\n",
    "pi_l_e,pi_lb_e,aux=[],[],[]\n",
    "\n",
    "contenido = os.listdir('binaries/')\n",
    "\n",
    "for txt in contenido:\n",
    "    a=nombres(txt)\n",
    "    aux.append(float(a))\n",
    "    path='binaries/'+txt\n",
    "    data = np.load(path,allow_pickle=True)\n",
    "    pi_l = data['arr_0']\n",
    "    pi_lb= data['arr_1']\n",
    "    pi_l_e.append(100*(np.pi-pi_l[0])/np.pi)\n",
    "    pi_lb_e.append(100*(np.pi-pi_lb[0])/np.pi)\n",
    "\n",
    "\n",
    "\n",
    "ind=[]\n",
    "for i in np.sort(N1):        #se crea un vector de indices ordenado\n",
    "    auxi='%.3e'%i\n",
    "    ind.append(float(auxi))    \n",
    "io=np.array(ind)\n",
    "\n",
    "\n",
    "ax=[]\n",
    "for ij in aux:\n",
    "    kk=np.where(io==ij)\n",
    "    ax.append(kk)\n",
    "indices_=np.array(ax)\n",
    "indices=indices_[:,0,0]\n",
    "\n",
    "#el vector indices nos muestra el orden relativo que\n",
    "#se obtiene al recuperar valores de error\n",
    "\n"
   ]
  },
  {
   "cell_type": "code",
   "execution_count": 121,
   "metadata": {},
   "outputs": [
    {
     "data": {
      "image/png": "[encoded data removed]",
      "text/plain": [
       "<Figure size 432x288 with 1 Axes>"
      ]
     },
     "metadata": {
      "needs_background": "light"
     },
     "output_type": "display_data"
    }
   ],
   "source": [
    "plt.semilogx(io[indices],np.array(pi_l_e),'o')\n",
    "plt.grid()"
   ]
  },
  {
   "cell_type": "code",
   "execution_count": null,
   "metadata": {},
   "outputs": [],
   "source": []
  }
 ],
 "metadata": {
  "kernelspec": {
   "display_name": "Python 3",
   "language": "python",
   "name": "python3"
  },
  "language_info": {
   "codemirror_mode": {
    "name": "ipython",
    "version": 3
   },
   "file_extension": ".py",
   "mimetype": "text/x-python",
   "name": "python",
   "nbconvert_exporter": "python",
   "pygments_lexer": "ipython3",
   "version": "3.8.3"
  }
 },
 "nbformat": 4,
 "nbformat_minor": 4
}
