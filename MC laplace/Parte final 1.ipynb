{
 "cells": [
  {
   "cell_type": "code",
   "execution_count": 26,
   "metadata": {
    "scrolled": true
   },
   "outputs": [
    {
     "data": {
      "text/plain": [
       "array([0.        , 0.13964915, 0.28521824, 0.40006995, 0.54487658,\n",
       "       0.64577055, 0.79297495, 0.94669533, 1.06322074, 1.24926448])"
      ]
     },
     "execution_count": 26,
     "metadata": {},
     "output_type": "execute_result"
    }
   ],
   "source": [
    "#comparacion de los métodos ccc y jp\n",
    "\n",
    "\n",
    "import random\n",
    "import math\n",
    "from time import time\n",
    "import numpy as np\n",
    "\n",
    "import matplotlib.pyplot as plt  # para graficar los histogramas\n",
    "%matplotlib inline \n",
    "#no se necesita numpy\n",
    "\n",
    "def buffon(n,r,a,b):\n",
    "    data=[]\n",
    "    #print( 'Buffon Needle Experiment (Google it) ') \n",
    "    #print( 'Runs       Number Hits  estimate of pi')\n",
    "    for jj in range(r):  \n",
    "        nhits = 0\n",
    "        for ii in range(n): \n",
    "            xcent = random.uniform(0,b/2.0)\n",
    "            theta = random.uniform(0,math.pi/2)\n",
    "            xtip  = xcent - (a/2.0)*math.cos(theta)  #use of cosine not historically accurate\n",
    "            if xtip < 0 :\n",
    "                nhits += 1\n",
    "        #print str(jj)+'            '+str(nhits)+'               '+str((6.0/a*float(b))*nhits/n)\n",
    "        c = 2.0*a*n\n",
    "        d = b*nhits\n",
    "        #print( str(jj)+'            '+str(nhits)+'               '+str(c/d))\n",
    "        data.append([jj,nhits])\n",
    "    return data\n",
    "    \n",
    "\n",
    "\n",
    "n=np.linspace(10**2,10**6,10,endpoint=True)\n",
    "\n",
    "aux=[]\n",
    "\n",
    "for i in n:\n",
    "    t1=time()\n",
    "    ccc=buffon(int(i),1,0.75,1) #prueba de la funcion\n",
    "    t2=time()\n",
    "    t3=t2-t1\n",
    "    aux.append(t3)\n",
    "\n",
    "aux=np.array(aux)\n",
    "aux"
   ]
  },
  {
   "cell_type": "code",
   "execution_count": 27,
   "metadata": {},
   "outputs": [],
   "source": [
    "# modulos necesarios\n",
    "import numpy as np     # para calculos matriciales\n",
    "import matplotlib.pyplot as plt  # para graficar los histogramas\n",
    "from time import time\n",
    "%matplotlib inline              \n",
    "# para incorporar los graficos al notebook\n",
    "\n",
    "# funciones\n",
    "# Inciso A: problema original de buffon\n",
    "def buffon(N, l=0.75, b=1.0):\n",
    "    \n",
    "    t1=time()\n",
    "    x_cent = np.random.uniform(0,b/2,N)       # centros aleatorios\n",
    "    theta = np.random.uniform(0,np.pi/2, N)   # angulos aleatorios\n",
    "    \n",
    "    x_tip = x_cent - (l/2.0)*np.cos(theta)     # puntas de las agujas\n",
    "    hits = x_tip < 0    # vector con las agujas que tocan las rayas\n",
    "\n",
    "    n_hits = np.sum(hits) # acumulacion de los cruces\n",
    "    \n",
    "    c = 2.0*l*N        # formula de buffon\n",
    "    d = b*n_hits\n",
    "    pi_est = c / d\n",
    "    t2=time()\n",
    "    t3=t2-t1\n",
    "    return pi_est, t3\n",
    "\n",
    "\n",
    "a=np.linspace(10**2,10**6,10,endpoint=True,dtype=np.int32)\n",
    "a\n",
    "\n",
    "vbuffon=np.vectorize(buffon)\n",
    "_,tiempo = vbuffon(a)"
   ]
  },
  {
   "cell_type": "code",
   "execution_count": 16,
   "metadata": {},
   "outputs": [
    {
     "data": {
      "text/plain": [
       "array([0.        , 0.00597596, 0.00997472, 0.01397038, 0.0179193 ,\n",
       "       0.02194142, 0.02892303, 0.03292823, 0.03892994, 0.04291725])"
      ]
     },
     "execution_count": 16,
     "metadata": {},
     "output_type": "execute_result"
    }
   ],
   "source": [
    "tiempo"
   ]
  },
  {
   "cell_type": "code",
   "execution_count": 28,
   "metadata": {},
   "outputs": [
    {
     "data": {
      "text/plain": [
       "Text(0, 0.5, 'Tiempo en seg')"
      ]
     },
     "execution_count": 28,
     "metadata": {},
     "output_type": "execute_result"
    },
    {
     "data": {
      "image/png": "[encoded data removed]",
      "text/plain": [
       "<Figure size 432x288 with 1 Axes>"
      ]
     },
     "metadata": {
      "needs_background": "light"
     },
     "output_type": "display_data"
    }
   ],
   "source": [
    "plt.figure()\n",
    "plt.grid()\n",
    "plt.plot(a,tiempo,'ro',label='jp metodo')\n",
    "plt.plot(n,aux,'b+',label='CCC metodo')\n",
    "plt.legend()\n",
    "plt.xlabel('N lanzamientos', fontsize=14)\n",
    "plt.ylabel('Tiempo en seg', fontsize=14)"
   ]
  },
  {
   "cell_type": "code",
   "execution_count": 29,
   "metadata": {},
   "outputs": [
    {
     "data": {
      "text/plain": [
       "0.1639723777770996"
      ]
     },
     "execution_count": 29,
     "metadata": {},
     "output_type": "execute_result"
    }
   ],
   "source": [
    "from time import time\n",
    "import numpy as np\n",
    "import random\n",
    "import matplotlib.pyplot as plt  # para graficar los histogramas\n",
    "%matplotlib inline \n",
    "#no se necesita numpy\n",
    "l=0.75\n",
    "b=1.0\n",
    "\n",
    "t1=time()\n",
    "N=np.linspace(10**2,10**6,10,dtype=np.int32)\n",
    "\n",
    "x_cent = np.random.uniform(0,b/2,N[-1])       # centros aleatorios\n",
    "theta = np.random.uniform(0,np.pi/2,N[-1])   # angulos aleatorios\n",
    "x_tip = x_cent - (l/2.0)*np.cos(theta)     # puntas de las agujas\n",
    "hits = x_tip < 0    # vector con las agujas que tocan las rayas\n",
    "n_hits=[]\n",
    "\n",
    "\n",
    "[n_hits.append(np.random.permutation(hits[0:i]).sum()) for i in N];\n",
    "\n",
    "c = 2.0*l*N        # formula de buffon\n",
    "d = b*np.array(n_hits)\n",
    "pi_est = c / d\n",
    "t2=time()\n",
    "t3=t2-t1\n",
    "t3"
   ]
  },
  {
   "cell_type": "code",
   "execution_count": 30,
   "metadata": {},
   "outputs": [],
   "source": [
    "t3=t3/len(N)*np.ones(len(N))"
   ]
  },
  {
   "cell_type": "code",
   "execution_count": 31,
   "metadata": {},
   "outputs": [
    {
     "data": {
      "text/plain": [
       "(10,)"
      ]
     },
     "execution_count": 31,
     "metadata": {},
     "output_type": "execute_result"
    }
   ],
   "source": [
    "t3.shape"
   ]
  },
  {
   "cell_type": "code",
   "execution_count": 32,
   "metadata": {},
   "outputs": [
    {
     "data": {
      "text/plain": [
       "Text(0, 0.5, 'Tiempo en seg')"
      ]
     },
     "execution_count": 32,
     "metadata": {},
     "output_type": "execute_result"
    },
    {
     "data": {
      "image/png": "[encoded data removed]",
      "text/plain": [
       "<Figure size 432x288 with 1 Axes>"
      ]
     },
     "metadata": {
      "needs_background": "light"
     },
     "output_type": "display_data"
    }
   ],
   "source": [
    "plt.figure()\n",
    "plt.grid()\n",
    "plt.plot(a,tiempo,'ro',label='jp metodo')\n",
    "plt.plot(n,aux,'b+',label='CCC metodo')\n",
    "plt.plot(N,t3,'gx',label='pure numpy metodo')\n",
    "plt.legend()\n",
    "plt.xlabel('N lanzamientos', fontsize=14)\n",
    "plt.ylabel('Tiempo en seg', fontsize=14)"
   ]
  },
  {
   "cell_type": "code",
   "execution_count": 33,
   "metadata": {},
   "outputs": [
    {
     "data": {
      "text/plain": [
       "Text(0, 0.5, 'Tiempo en seg')"
      ]
     },
     "execution_count": 33,
     "metadata": {},
     "output_type": "execute_result"
    },
    {
     "data": {
      "image/png": "[encoded data removed]",
      "text/plain": [
       "<Figure size 432x288 with 1 Axes>"
      ]
     },
     "metadata": {
      "needs_background": "light"
     },
     "output_type": "display_data"
    }
   ],
   "source": [
    "plt.figure()\n",
    "plt.grid()\n",
    "plt.plot(a,tiempo,'ro',label='jp metodo')\n",
    "plt.plot(N,t3,'gx',label='pure numpy metodo')\n",
    "plt.legend()\n",
    "plt.xlabel('N lanzamientos', fontsize=14)\n",
    "plt.ylabel('Tiempo en seg', fontsize=14)"
   ]
  },
  {
   "cell_type": "code",
   "execution_count": 34,
   "metadata": {},
   "outputs": [],
   "source": [
    "# -*- coding: utf-8 -*-\n",
    "\"\"\"\n",
    "@author: LImber\n",
    "\"\"\"\n",
    "\n",
    "import numpy as np\n",
    "from time import time\n",
    "def kusillo(N, l=0.75, b=1.0):\n",
    "    t1=time()\n",
    "    D=np.random.rand(N)*b/2\n",
    "    O=np.random.rand(N)*np.pi/2\n",
    "    D1=D[D<l/2]\n",
    "    O1=O[D<l/2]\n",
    "    Oc=np.arcsin(2*D1/l)\n",
    "    E=O1[O1>=Oc]\n",
    "    P=len(E)/len(D)\n",
    "    #print(f'estimado por monti: {P}')\n",
    "    #PR=2*l/(np.pi*b)\n",
    "    #print(f'valor real: {PR}')\n",
    "    pi=2*l/(P*b)\n",
    "    #print(f'el valor de pi es: {pi}')\n",
    "    t2=time()\n",
    "    t3=t2-t1\n",
    "    return pi, t3\n",
    "\n",
    "aw=np.linspace(10**2,10**6,10,endpoint=True,dtype=np.int32)\n",
    "vkus=np.vectorize(kusillo)\n",
    "_,tiempow = vkus(a)"
   ]
  },
  {
   "cell_type": "code",
   "execution_count": 35,
   "metadata": {},
   "outputs": [
    {
     "data": {
      "text/plain": [
       "Text(0, 0.5, 'Tiempo en seg')"
      ]
     },
     "execution_count": 35,
     "metadata": {},
     "output_type": "execute_result"
    },
    {
     "data": {
      "image/png": "[encoded data removed]",
      "text/plain": [
       "<Figure size 432x288 with 1 Axes>"
      ]
     },
     "metadata": {
      "needs_background": "light"
     },
     "output_type": "display_data"
    }
   ],
   "source": [
    "plt.figure()\n",
    "plt.grid()\n",
    "plt.plot(a,tiempo,'ro',label='jp metodo')\n",
    "plt.plot(N,t3,'gx',label='pure numpy metodo')\n",
    "\n",
    "plt.plot(aw,tiempow,'bx',label='wantar metodo')\n",
    "\n",
    "plt.legend()\n",
    "plt.xlabel('N lanzamientos', fontsize=14)\n",
    "plt.ylabel('Tiempo en seg', fontsize=14)"
   ]
  },
  {
   "cell_type": "code",
   "execution_count": null,
   "metadata": {},
   "outputs": [],
   "source": []
  }
 ],
 "metadata": {
  "kernelspec": {
   "display_name": "Python 3",
   "language": "python",
   "name": "python3"
  },
  "language_info": {
   "codemirror_mode": {
    "name": "ipython",
    "version": 3
   },
   "file_extension": ".py",
   "mimetype": "text/x-python",
   "name": "python",
   "nbconvert_exporter": "python",
   "pygments_lexer": "ipython3",
   "version": "3.8.3"
  }
 },
 "nbformat": 4,
 "nbformat_minor": 4
}
