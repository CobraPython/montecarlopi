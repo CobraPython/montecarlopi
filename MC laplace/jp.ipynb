{
 "cells": [
  {
   "cell_type": "code",
   "execution_count": 2,
   "metadata": {},
   "outputs": [
    {
     "data": {
      "text/plain": [
       "array([    10000,  11120000,  22230000,  33340000,  44450000,  55560000,\n",
       "        66670000,  77780000,  88890000, 100000000])"
      ]
     },
     "execution_count": 2,
     "metadata": {},
     "output_type": "execute_result"
    }
   ],
   "source": [
    "# modulos necesarios\n",
    "import numpy as np     # para calculos matriciales\n",
    "import matplotlib.pyplot as plt  # para graficar los histogramas\n",
    "from time import time\n",
    "%matplotlib inline              \n",
    "# para incorporar los graficos al notebook\n",
    "\n",
    "# funciones\n",
    "# Inciso A: problema original de buffon\n",
    "def buffon(N, l=0.75, b=1.0):\n",
    "    \n",
    "    t1=time()\n",
    "    x_cent = np.random.uniform(0,b/2,N)       # centros aleatorios\n",
    "    theta = np.random.uniform(0,np.pi/2, N)   # angulos aleatorios\n",
    "    \n",
    "    x_tip = x_cent - (l/2.0)*np.cos(theta)     # puntas de las agujas\n",
    "    hits = x_tip < 0    # vector con las agujas que tocan las rayas\n",
    "\n",
    "    n_hits = np.sum(hits) # acumulacion de los cruces\n",
    "    \n",
    "    c = 2.0*l*N        # formula de buffon\n",
    "    d = b*n_hits\n",
    "    pi_est = c / d\n",
    "    t2=time()\n",
    "    t3=t2-t1\n",
    "    return pi_est, t3\n",
    "\n",
    "\n",
    "a=np.linspace(10**4,10**8,10,endpoint=True,dtype=np.int32)\n",
    "a\n",
    "\n",
    "vbuffon=np.vectorize(buffon)\n",
    "a"
   ]
  },
  {
   "cell_type": "code",
   "execution_count": 4,
   "metadata": {},
   "outputs": [],
   "source": [
    "_,tiempo = vbuffon(a)"
   ]
  },
  {
   "cell_type": "code",
   "execution_count": 31,
   "metadata": {},
   "outputs": [
    {
     "data": {
      "text/plain": [
       "[<matplotlib.lines.Line2D at 0x277b289d100>]"
      ]
     },
     "execution_count": 31,
     "metadata": {},
     "output_type": "execute_result"
    },
    {
     "data": {
      "image/png": "[encoded data removed]",
      "text/plain": [
       "<Figure size 432x288 with 1 Axes>"
      ]
     },
     "metadata": {
      "needs_background": "light"
     },
     "output_type": "display_data"
    }
   ],
   "source": [
    "plt.figure()\n",
    "plt.grid()\n",
    "plt.plot(a,tiempo)"
   ]
  },
  {
   "cell_type": "code",
   "execution_count": 32,
   "metadata": {},
   "outputs": [
    {
     "data": {
      "text/plain": [
       "array([9.98973846e-04, 5.91811180e-01, 1.22984195e+00, 1.82251549e+00,\n",
       "       2.52230859e+00, 3.13079691e+00, 3.84120846e+00, 4.46697688e+00,\n",
       "       5.11361194e+00, 5.72952318e+00])"
      ]
     },
     "execution_count": 32,
     "metadata": {},
     "output_type": "execute_result"
    }
   ],
   "source": [
    "tiempo"
   ]
  },
  {
   "cell_type": "code",
   "execution_count": null,
   "metadata": {},
   "outputs": [],
   "source": []
  }
 ],
 "metadata": {
  "kernelspec": {
   "display_name": "Python 3",
   "language": "python",
   "name": "python3"
  },
  "language_info": {
   "codemirror_mode": {
    "name": "ipython",
    "version": 3
   },
   "file_extension": ".py",
   "mimetype": "text/x-python",
   "name": "python",
   "nbconvert_exporter": "python",
   "pygments_lexer": "ipython3",
   "version": "3.8.3"
  }
 },
 "nbformat": 4,
 "nbformat_minor": 4
}
