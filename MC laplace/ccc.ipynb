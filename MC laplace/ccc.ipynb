{
 "cells": [
  {
   "cell_type": "code",
   "execution_count": null,
   "metadata": {},
   "outputs": [
    {
     "name": "stdout",
     "output_type": "stream",
     "text": [
      "Buffon Needle Experiment (Google it) \n",
      "Runs       Number Hits  estimate of pi\n",
      "0            4872               3.0788177339901477\n",
      "Buffon Needle Experiment (Google it) \n",
      "Runs       Number Hits  estimate of pi\n",
      "0            5306394               3.1433775931451753\n",
      "Buffon Needle Experiment (Google it) \n",
      "Runs       Number Hits  estimate of pi\n",
      "0            10616400               3.1408952187182098\n",
      "Buffon Needle Experiment (Google it) \n",
      "Runs       Number Hits  estimate of pi\n",
      "0            15918445               3.141638520596704\n",
      "Buffon Needle Experiment (Google it) \n",
      "Runs       Number Hits  estimate of pi\n",
      "0            21228813               3.1407785258648233\n",
      "Buffon Needle Experiment (Google it) \n",
      "Runs       Number Hits  estimate of pi\n"
     ]
    }
   ],
   "source": [
    "import random\n",
    "import math\n",
    "from time import time\n",
    "import numpy as np\n",
    "\n",
    "import matplotlib.pyplot as plt  # para graficar los histogramas\n",
    "%matplotlib inline \n",
    "#no se necesita numpy\n",
    "\n",
    "def buffon(n,r,a,b):\n",
    "    data=[]\n",
    "    print( 'Buffon Needle Experiment (Google it) ') \n",
    "    print( 'Runs       Number Hits  estimate of pi')\n",
    "    for jj in range(r):  \n",
    "        nhits = 0\n",
    "        for ii in range(n): \n",
    "            xcent = random.uniform(0,b/2.0)\n",
    "            theta = random.uniform(0,math.pi/2)\n",
    "            xtip  = xcent - (a/2.0)*math.cos(theta)  #use of cosine not historically accurate\n",
    "            if xtip < 0 :\n",
    "                nhits += 1\n",
    "        #print str(jj)+'            '+str(nhits)+'               '+str((6.0/a*float(b))*nhits/n)\n",
    "        c = 2.0*a*n\n",
    "        d = b*nhits\n",
    "        print( str(jj)+'            '+str(nhits)+'               '+str(c/d))\n",
    "        data.append([jj,nhits])\n",
    "    return data\n",
    "    \n",
    "\n",
    "t1=time()  \n",
    "n=np.linspace(10**4,10**8,10,endpoint=True)\n",
    "\n",
    "aux=[]\n",
    "\n",
    "for i in n:\n",
    "    t1=time()\n",
    "    ccc=buffon(int(i),1,0.75,1) #prueba de la funcion\n",
    "    t2=time()\n",
    "    t3=t2-t1\n",
    "    aux.append(t3)\n",
    "\n",
    "\n",
    "#sugiero añadir una variable que mida el tiempo de ejecucion\n",
    "#y que guarde el dato en relación con el n \n",
    "\n",
    "#Para empezar podriamos hacer de n un vector [10**2 10**3 10**4 10**5 10**6]\n",
    "#que tenga un vector de los tiempos de ejecucion [t1 t2 t3 t4 t5]\n",
    "#y graficamos como varia el tiempo de ejecución mientras mas grande es el bucle"
   ]
  },
  {
   "cell_type": "code",
   "execution_count": 4,
   "metadata": {},
   "outputs": [
    {
     "ename": "NameError",
     "evalue": "name 'plt' is not defined",
     "output_type": "error",
     "traceback": [
      "\u001b[1;31m---------------------------------------------------------------------------\u001b[0m",
      "\u001b[1;31mNameError\u001b[0m                                 Traceback (most recent call last)",
      "\u001b[1;32m<ipython-input-4-71f493f664df>\u001b[0m in \u001b[0;36m<module>\u001b[1;34m\u001b[0m\n\u001b[1;32m----> 1\u001b[1;33m \u001b[0mplt\u001b[0m\u001b[1;33m.\u001b[0m\u001b[0mfigure\u001b[0m\u001b[1;33m(\u001b[0m\u001b[1;33m)\u001b[0m\u001b[1;33m\u001b[0m\u001b[1;33m\u001b[0m\u001b[0m\n\u001b[0m\u001b[0;32m      2\u001b[0m \u001b[0mplt\u001b[0m\u001b[1;33m.\u001b[0m\u001b[0mgrid\u001b[0m\u001b[1;33m(\u001b[0m\u001b[1;33m)\u001b[0m\u001b[1;33m\u001b[0m\u001b[1;33m\u001b[0m\u001b[0m\n\u001b[0;32m      3\u001b[0m \u001b[0mplt\u001b[0m\u001b[1;33m.\u001b[0m\u001b[0mplot\u001b[0m\u001b[1;33m(\u001b[0m\u001b[0mn\u001b[0m\u001b[1;33m,\u001b[0m\u001b[0maux\u001b[0m\u001b[1;33m)\u001b[0m\u001b[1;33m\u001b[0m\u001b[1;33m\u001b[0m\u001b[0m\n",
      "\u001b[1;31mNameError\u001b[0m: name 'plt' is not defined"
     ]
    }
   ],
   "source": [
    "plt.figure()\n",
    "plt.grid()\n",
    "plt.plot(n,aux)"
   ]
  },
  {
   "cell_type": "code",
   "execution_count": null,
   "metadata": {},
   "outputs": [],
   "source": []
  }
 ],
 "metadata": {
  "kernelspec": {
   "display_name": "Python 3",
   "language": "python",
   "name": "python3"
  },
  "language_info": {
   "codemirror_mode": {
    "name": "ipython",
    "version": 3
   },
   "file_extension": ".py",
   "mimetype": "text/x-python",
   "name": "python",
   "nbconvert_exporter": "python",
   "pygments_lexer": "ipython3",
   "version": "3.8.3"
  }
 },
 "nbformat": 4,
 "nbformat_minor": 4
}
